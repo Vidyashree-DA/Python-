{
  "nbformat": 4,
  "nbformat_minor": 0,
  "metadata": {
    "colab": {
      "provenance": [],
      "authorship_tag": "ABX9TyPdrUd1wXOkfkdlQ2WvOgA3",
      "include_colab_link": true
    },
    "kernelspec": {
      "name": "python3",
      "display_name": "Python 3"
    },
    "language_info": {
      "name": "python"
    }
  },
  "cells": [
    {
      "cell_type": "markdown",
      "metadata": {
        "id": "view-in-github",
        "colab_type": "text"
      },
      "source": [
        "<a href=\"https://colab.research.google.com/github/Vidyashree-DA/Python-/blob/main/Untitled0.ipynb\" target=\"_parent\"><img src=\"https://colab.research.google.com/assets/colab-badge.svg\" alt=\"Open In Colab\"/></a>"
      ]
    },
    {
      "cell_type": "code",
      "execution_count": 1,
      "metadata": {
        "colab": {
          "base_uri": "https://localhost:8080/"
        },
        "id": "yAcvme9O-CUd",
        "outputId": "43c3bd8a-bcd1-4ce7-a0ad-c4a80307cd4d"
      },
      "outputs": [
        {
          "output_type": "stream",
          "name": "stdout",
          "text": [
            "Enter your marks98\n",
            "grade A\n"
          ]
        }
      ],
      "source": [
        "Marks=int(input (\"Enter your marks\"))\n",
        "if (Marks<35):\n",
        "    print(\"Fail\")\n",
        "elif (Marks<60):\n",
        "    print (\"grade c\")\n",
        "elif (Marks<80):\n",
        "    print (\"grade B\")\n",
        "else:\n",
        "    print (\"grade A\")"
      ]
    }
  ]
}